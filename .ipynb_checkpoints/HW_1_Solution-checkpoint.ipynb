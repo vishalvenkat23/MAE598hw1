{
 "cells": [
  {
   "cell_type": "code",
   "execution_count": 1,
   "id": "5ff07854",
   "metadata": {},
   "outputs": [
    {
     "name": "stdout",
     "output_type": "stream",
     "text": [
      "     fun: 1.4883720950006878\n",
      "     jac: array([-0.18598258, -0.74423909, -0.93022171,  0.93029132, -2.04649563])\n",
      " message: 'Optimization terminated successfully'\n",
      "    nfev: 43\n",
      "     nit: 7\n",
      "    njev: 7\n",
      "  status: 0\n",
      " success: True\n",
      "       x: array([-0.06974348,  0.02324783,  1.51164131,  1.46514566, -0.02324783])\n"
     ]
    }
   ],
   "source": [
    "# HW 1 solution 1 Initial guess (1,1,1,1,1)\n",
    "\n",
    "from scipy.optimize import minimize\n",
    "\n",
    "fun = lambda x: (x[0]-x[1])**2 + (x[1] + x[2] - 2)**2 + (x[3] - 1)**2 + (x[4] - 1)**2\n",
    "\n",
    "cons = ({'type': 'eq', 'fun': lambda x:  x[0] + 3 * x[1]},\n",
    "        {'type': 'eq', 'fun': lambda x: -x[2] + x[3] - 2 * x[4]},\n",
    "        {'type': 'eq', 'fun': lambda x: -x[1] - x[4]})\n",
    "\n",
    "bnds = ((-10, 10), (-10, 10), (-10, 10), (-10, 10), (-10, 10))\n",
    "res = minimize(fun, (1,1,1,1,1), method='SLSQP', bounds=bnds, constraints=cons)\n",
    "\n",
    "print(res)\n"
   ]
  },
  {
   "cell_type": "code",
   "execution_count": 2,
   "id": "4b999948",
   "metadata": {
    "scrolled": true
   },
   "outputs": [
    {
     "name": "stdout",
     "output_type": "stream",
     "text": [
      "     fun: 1.4883720930232602\n",
      "     jac: array([-0.18604642, -0.74418621, -0.93023266,  0.93023252, -2.04651159])\n",
      " message: 'Optimization terminated successfully'\n",
      "    nfev: 26\n",
      "     nit: 4\n",
      "    njev: 4\n",
      "  status: 0\n",
      " success: True\n",
      "       x: array([-0.06976741,  0.0232558 ,  1.51162786,  1.46511625, -0.0232558 ])\n"
     ]
    }
   ],
   "source": [
    "# HW 1 solution 1 Initial guess (5,3,1,2,4)\n",
    "\n",
    "from scipy.optimize import minimize\n",
    "\n",
    "fun = lambda x: (x[0]-x[1])**2 + (x[1] + x[2] - 2)**2 + (x[3] - 1)**2 + (x[4] - 1)**2\n",
    "\n",
    "cons = ({'type': 'eq', 'fun': lambda x:  x[0] + 3 * x[1]},\n",
    "        {'type': 'eq', 'fun': lambda x: -x[2] + x[3] - 2 * x[4]},\n",
    "        {'type': 'eq', 'fun': lambda x: -x[1] - x[4]})\n",
    "\n",
    "bnds = ((-10, 10), (-10, 10), (-10, 10), (-10, 10), (-10, 10))\n",
    "res = minimize(fun, (5,3,1,2,4), method='SLSQP', bounds=bnds, constraints=cons)\n",
    "\n",
    "print(res)"
   ]
  },
  {
   "cell_type": "markdown",
   "id": "46fe9d77",
   "metadata": {},
   "source": [
    "Compared to other guesses the above one yields the value near to zero."
   ]
  },
  {
   "cell_type": "code",
   "execution_count": 1,
   "id": "d8a39aac",
   "metadata": {},
   "outputs": [
    {
     "name": "stdout",
     "output_type": "stream",
     "text": [
      "     fun: 1.4883725696972627\n",
      "     jac: array([-0.1853233 , -0.74440452, -0.92972787,  0.93127963, -2.04633081])\n",
      " message: 'Optimization terminated successfully'\n",
      "    nfev: 42\n",
      "     nit: 7\n",
      "    njev: 7\n",
      "  status: 0\n",
      " success: True\n",
      "       x: array([-0.06949625,  0.02316542,  1.51197064,  1.46563981, -0.02316542])\n"
     ]
    }
   ],
   "source": [
    "# HW 1 solution 1 Initial guess (5,3,1,2,4)\n",
    "\n",
    "from scipy.optimize import minimize\n",
    "\n",
    "fun = lambda x: (x[0]-x[1])**2 + (x[1] + x[2] - 2)**2 + (x[3] - 1)**2 + (x[4] - 1)**2\n",
    "\n",
    "cons = ({'type': 'eq', 'fun': lambda x:  x[0] + 3 * x[1]},\n",
    "        {'type': 'eq', 'fun': lambda x: -x[2] + x[3] - 2 * x[4]},\n",
    "        {'type': 'eq', 'fun': lambda x: -x[1] - x[4]})\n",
    "\n",
    "bnds = ((-10, 10), (-10, 10), (-10, 10), (-10, 10), (-10, 10))\n",
    "res = minimize(fun, (9,9,9,9,9), method='SLSQP', bounds=bnds, constraints=cons)\n",
    "\n",
    "print(res)"
   ]
  },
  {
   "cell_type": "code",
   "execution_count": 2,
   "id": "d03ef375",
   "metadata": {},
   "outputs": [
    {
     "name": "stdout",
     "output_type": "stream",
     "text": [
      "     fun: 1.488372098249152\n",
      "     jac: array([-0.18604901, -0.74408035, -0.93012939,  0.93033384, -2.04651225])\n",
      " message: 'Optimization terminated successfully'\n",
      "    nfev: 48\n",
      "     nit: 8\n",
      "    njev: 8\n",
      "  status: 0\n",
      " success: True\n",
      "       x: array([-0.06976839,  0.02325613,  1.51167917,  1.46516691, -0.02325613])\n"
     ]
    }
   ],
   "source": [
    "# HW 1 solution 1 Initial guess (5,3,1,2,4)\n",
    "\n",
    "from scipy.optimize import minimize\n",
    "\n",
    "fun = lambda x: (x[0]-x[1])**2 + (x[1] + x[2] - 2)**2 + (x[3] - 1)**2 + (x[4] - 1)**2\n",
    "\n",
    "cons = ({'type': 'eq', 'fun': lambda x:  x[0] + 3 * x[1]},\n",
    "        {'type': 'eq', 'fun': lambda x: -x[2] + x[3] - 2 * x[4]},\n",
    "        {'type': 'eq', 'fun': lambda x: -x[1] - x[4]})\n",
    "\n",
    "bnds = ((-10, 10), (-10, 10), (-10, 10), (-10, 10), (-10, 10))\n",
    "res = minimize(fun, (-9,-9,-9,-9,-9), method='SLSQP', bounds=bnds, constraints=cons)\n",
    "\n",
    "print(res)"
   ]
  },
  {
   "cell_type": "code",
   "execution_count": 3,
   "id": "a612980d",
   "metadata": {},
   "outputs": [
    {
     "name": "stdout",
     "output_type": "stream",
     "text": [
      "     fun: 1.488372098254787\n",
      "     jac: array([-0.18605068, -0.74407804, -0.93012875,  0.93033323, -2.04651266])\n",
      " message: 'Optimization terminated successfully'\n",
      "    nfev: 48\n",
      "     nit: 8\n",
      "    njev: 8\n",
      "  status: 0\n",
      " success: True\n",
      "       x: array([-0.06976901,  0.02325634,  1.51167928,  1.46516661, -0.02325634])\n"
     ]
    }
   ],
   "source": [
    "# HW 1 solution 1 Initial guess (5,3,1,2,4)\n",
    "\n",
    "from scipy.optimize import minimize\n",
    "\n",
    "fun = lambda x: (x[0]-x[1])**2 + (x[1] + x[2] - 2)**2 + (x[3] - 1)**2 + (x[4] - 1)**2\n",
    "\n",
    "cons = ({'type': 'eq', 'fun': lambda x:  x[0] + 3 * x[1]},\n",
    "        {'type': 'eq', 'fun': lambda x: -x[2] + x[3] - 2 * x[4]},\n",
    "        {'type': 'eq', 'fun': lambda x: -x[1] - x[4]})\n",
    "\n",
    "bnds = ((-10, 10), (-10, 10), (-10, 10), (-10, 10), (-10, 10))\n",
    "res = minimize(fun, (-10,-10,-10,-10,-10), method='SLSQP', bounds=bnds, constraints=cons)\n",
    "\n",
    "print(res)"
   ]
  },
  {
   "cell_type": "code",
   "execution_count": null,
   "id": "41eae4e7",
   "metadata": {},
   "outputs": [],
   "source": []
  }
 ],
 "metadata": {
  "kernelspec": {
   "display_name": "Python 3",
   "language": "python",
   "name": "python3"
  },
  "language_info": {
   "codemirror_mode": {
    "name": "ipython",
    "version": 3
   },
   "file_extension": ".py",
   "mimetype": "text/x-python",
   "name": "python",
   "nbconvert_exporter": "python",
   "pygments_lexer": "ipython3",
   "version": "3.8.8"
  }
 },
 "nbformat": 4,
 "nbformat_minor": 5
}
