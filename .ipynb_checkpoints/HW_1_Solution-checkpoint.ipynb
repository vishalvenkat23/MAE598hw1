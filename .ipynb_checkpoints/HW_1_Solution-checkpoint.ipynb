{
 "cells": [
  {
   "cell_type": "markdown",
   "id": "4dfc1759",
   "metadata": {},
   "source": [
    "I solved this problem using jupyter notebook and have used 6 initial conditions. I found that for initial condition (1,2,3,4,5) yields the value closer to zero. \n",
    "\n",
    "Note: Running the minimize program in loop to determnine which initial condition yields the fun value closer to zero. I didn't use loop function here because the initial condition values should range between -10 to 10 and after running program for couple of initial conditions it was found that the there is no significant change in the fun value. \n",
    "\n",
    "Solution for initial contition (1,2,3,4,5): \n",
    " fun: 4.09302325588931 \n",
    " x(0)=-0.76743912,  x(1)=0.25581304 ,  x(2)=0.62791188,  x(3)=-0.1162858 x(4)=0.25581304"
   ]
  },
  {
   "cell_type": "code",
   "execution_count": 1,
   "id": "5ff07854",
   "metadata": {},
   "outputs": [
    {
     "name": "stdout",
     "output_type": "stream",
     "text": [
      "     fun: 4.09302326452976\n",
      "     jac: array([-2.04664832, -0.18578869, -2.23243701, -2.23257673, -1.48833793])\n",
      " message: 'Optimization terminated successfully'\n",
      "    nfev: 38\n",
      "     nit: 6\n",
      "    njev: 6\n",
      "  status: 0\n",
      " success: True\n",
      "       x: array([-0.76749312,  0.25583104,  0.62795044, -0.11628835,  0.25583104])\n"
     ]
    }
   ],
   "source": [
    "\n",
    "# HW 1 solution 1 Initial guess (1,1,1,1,1)\n",
    "\n",
    "from scipy.optimize import minimize\n",
    "\n",
    "fun = lambda x: (x[0]-x[1])**2 + (x[1] + x[2] - 2)**2 + (x[3] - 1)**2 + (x[4] - 1)**2\n",
    "\n",
    "cons = ({'type': 'eq', 'fun': lambda x:  x[0] + 3 * x[1]},\n",
    "        {'type': 'eq', 'fun': lambda x:  x[2] + x[3] - 2 * x[4]},\n",
    "        {'type': 'eq', 'fun': lambda x:  x[1] - x[4]})\n",
    "\n",
    "bnds = ((-10, 10), (-10, 10), (-10, 10), (-10, 10), (-10, 10))\n",
    "res = minimize(fun, (1,1,1,1,1), method='SLSQP', bounds=bnds, constraints=cons)\n",
    "\n",
    "print(res)\n"
   ]
  },
  {
   "cell_type": "code",
   "execution_count": 2,
   "id": "4b999948",
   "metadata": {
    "scrolled": true
   },
   "outputs": [
    {
     "name": "stdout",
     "output_type": "stream",
     "text": [
      "     fun: 4.093023256729985\n",
      "     jac: array([-2.04652655, -0.18606687, -2.23259348, -2.23251146, -1.48836833])\n",
      " message: 'Optimization terminated successfully'\n",
      "    nfev: 48\n",
      "     nit: 8\n",
      "    njev: 8\n",
      "  status: 0\n",
      " success: True\n",
      "       x: array([-0.76744748,  0.25581583,  0.62788741, -0.11625576,  0.25581583])\n"
     ]
    }
   ],
   "source": [
    "# HW 1 solution 1 Initial guess (5,3,1,2,4)\n",
    "\n",
    "from scipy.optimize import minimize\n",
    "\n",
    "fun = lambda x: (x[0]-x[1])**2 + (x[1] + x[2] - 2)**2 + (x[3] - 1)**2 + (x[4] - 1)**2\n",
    "\n",
    "cons = ({'type': 'eq', 'fun': lambda x:  x[0] + 3 * x[1]},\n",
    "        {'type': 'eq', 'fun': lambda x:  x[2] + x[3] - 2 * x[4]},\n",
    "        {'type': 'eq', 'fun': lambda x:  x[1] - x[4]})\n",
    "\n",
    "bnds = ((-10, 10), (-10, 10), (-10, 10), (-10, 10), (-10, 10))\n",
    "res = minimize(fun, (5,3,1,2,4), method='SLSQP', bounds=bnds, constraints=cons)\n",
    "\n",
    "print(res)"
   ]
  },
  {
   "cell_type": "markdown",
   "id": "46fe9d77",
   "metadata": {},
   "source": [
    "Compared to other guesses the above one yields the value near to zero."
   ]
  },
  {
   "cell_type": "code",
   "execution_count": 3,
   "id": "175b5cdf",
   "metadata": {},
   "outputs": [
    {
     "name": "stdout",
     "output_type": "stream",
     "text": [
      "     fun: 4.0930232577398415\n",
      "     jac: array([-2.04654008, -0.18606484, -2.23260492, -2.23248994, -1.48836499])\n",
      " message: 'Optimization terminated successfully'\n",
      "    nfev: 48\n",
      "     nit: 8\n",
      "    njev: 8\n",
      "  status: 0\n",
      " success: True\n",
      "       x: array([-0.76745254,  0.25581751,  0.62788   , -0.11624498,  0.25581751])\n"
     ]
    }
   ],
   "source": [
    "# HW 1 solution 1 Initial guess (5,3,1,2,4)\n",
    "\n",
    "from scipy.optimize import minimize\n",
    "\n",
    "fun = lambda x: (x[0]-x[1])**2 + (x[1] + x[2] - 2)**2 + (x[3] - 1)**2 + (x[4] - 1)**2\n",
    "\n",
    "cons = ({'type': 'eq', 'fun': lambda x:  x[0] + 3 * x[1]},\n",
    "        {'type': 'eq', 'fun': lambda x:  x[2] + x[3] - 2 * x[4]},\n",
    "        {'type': 'eq', 'fun': lambda x:  x[1] - x[4]})\n",
    "\n",
    "bnds = ((-10, 10), (-10, 10), (-10, 10), (-10, 10), (-10, 10))\n",
    "res = minimize(fun, (9,9,9,9,9), method='SLSQP', bounds=bnds, constraints=cons)\n",
    "\n",
    "print(res)"
   ]
  },
  {
   "cell_type": "code",
   "execution_count": 4,
   "id": "04a87a7c",
   "metadata": {},
   "outputs": [
    {
     "name": "stdout",
     "output_type": "stream",
     "text": [
      "     fun: 4.093023256115556\n",
      "     jac: array([-2.04650056, -0.18603897, -2.23253947, -2.23258507, -1.48837483])\n",
      " message: 'Optimization terminated successfully'\n",
      "    nfev: 48\n",
      "     nit: 8\n",
      "    njev: 8\n",
      "  status: 0\n",
      " success: True\n",
      "       x: array([-0.7674377 ,  0.25581257,  0.62791769, -0.11629256,  0.25581257])\n"
     ]
    }
   ],
   "source": [
    "# HW 1 solution 1 Initial guess (5,3,1,2,4)\n",
    "\n",
    "from scipy.optimize import minimize\n",
    "\n",
    "fun = lambda x: (x[0]-x[1])**2 + (x[1] + x[2] - 2)**2 + (x[3] - 1)**2 + (x[4] - 1)**2\n",
    "\n",
    "cons = ({'type': 'eq', 'fun': lambda x:  x[0] + 3 * x[1]},\n",
    "        {'type': 'eq', 'fun': lambda x:  x[2] + x[3] - 2 * x[4]},\n",
    "        {'type': 'eq', 'fun': lambda x:  x[1] - x[4]})\n",
    "\n",
    "bnds = ((-10, 10), (-10, 10), (-10, 10), (-10, 10), (-10, 10))\n",
    "res = minimize(fun, (-9,-9,-9,-9,-9), method='SLSQP', bounds=bnds, constraints=cons)\n",
    "\n",
    "print(res)"
   ]
  },
  {
   "cell_type": "code",
   "execution_count": 7,
   "id": "3eba970e",
   "metadata": {},
   "outputs": [
    {
     "name": "stdout",
     "output_type": "stream",
     "text": [
      "     fun: 4.093023255925681\n",
      "     jac: array([-2.04732841, -0.18418097, -2.23150945, -2.23299426, -1.48816788])\n",
      " message: 'Optimization terminated successfully'\n",
      "    nfev: 44\n",
      "     nit: 7\n",
      "    njev: 7\n",
      "  status: 0\n",
      " success: True\n",
      "       x: array([-0.76744402,  0.25581467,  0.62790025, -0.1162709 ,  0.25581467])\n"
     ]
    }
   ],
   "source": [
    "# HW 1 solution 1 Initial guess (5,3,1,2,4)\n",
    "\n",
    "from scipy.optimize import minimize\n",
    "\n",
    "fun = lambda x: (x[0]-x[1])**2 + (x[1] + x[2] - 2)**2 + (x[3] - 1)**2 + (x[4] - 1)**2\n",
    "\n",
    "cons = ({'type': 'eq', 'fun': lambda x:  x[0] + 3 * x[1]},\n",
    "        {'type': 'eq', 'fun': lambda x:  x[2] + x[3] - 2 * x[4]},\n",
    "        {'type': 'eq', 'fun': lambda x:  x[1] - x[4]})\n",
    "\n",
    "bnds = ((-10, 10), (-10, 10), (-10, 10), (-10, 10), (-10, 10))\n",
    "res = minimize(fun, (-1,-2,-3,-4,-5), method='SLSQP', bounds=bnds, constraints=cons)\n",
    "\n",
    "print(res)"
   ]
  },
  {
   "cell_type": "code",
   "execution_count": 6,
   "id": "3797ca6f",
   "metadata": {},
   "outputs": [
    {
     "name": "stdout",
     "output_type": "stream",
     "text": [
      "     fun: 4.09302325588931\n",
      "     jac: array([-2.04579037, -0.18800253, -2.2337929 , -2.23186433, -1.48855239])\n",
      " message: 'Optimization terminated successfully'\n",
      "    nfev: 44\n",
      "     nit: 7\n",
      "    njev: 7\n",
      "  status: 0\n",
      " success: True\n",
      "       x: array([-0.76743912,  0.25581304,  0.62791188, -0.1162858 ,  0.25581304])\n"
     ]
    }
   ],
   "source": [
    "# HW 1 solution 1 Initial guess (5,3,1,2,4)\n",
    "\n",
    "from scipy.optimize import minimize\n",
    "\n",
    "fun = lambda x: (x[0]-x[1])**2 + (x[1] + x[2] - 2)**2 + (x[3] - 1)**2 + (x[4] - 1)**2\n",
    "\n",
    "cons = ({'type': 'eq', 'fun': lambda x:  x[0] + 3 * x[1]},\n",
    "        {'type': 'eq', 'fun': lambda x:  x[2] + x[3] - 2 * x[4]},\n",
    "        {'type': 'eq', 'fun': lambda x:  x[1] - x[4]})\n",
    "\n",
    "bnds = ((-10, 10), (-10, 10), (-10, 10), (-10, 10), (-10, 10))\n",
    "res = minimize(fun, (1,2,3,4,5), method='SLSQP', bounds=bnds, constraints=cons)\n",
    "\n",
    "print(res)"
   ]
  },
  {
   "cell_type": "code",
   "execution_count": null,
   "id": "2489f64c",
   "metadata": {},
   "outputs": [],
   "source": []
  }
 ],
 "metadata": {
  "kernelspec": {
   "display_name": "Python 3",
   "language": "python",
   "name": "python3"
  },
  "language_info": {
   "codemirror_mode": {
    "name": "ipython",
    "version": 3
   },
   "file_extension": ".py",
   "mimetype": "text/x-python",
   "name": "python",
   "nbconvert_exporter": "python",
   "pygments_lexer": "ipython3",
   "version": "3.8.8"
  }
 },
 "nbformat": 4,
 "nbformat_minor": 5
}
