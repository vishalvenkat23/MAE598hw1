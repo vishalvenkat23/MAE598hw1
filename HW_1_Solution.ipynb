{
 "cells": [
  {
   "cell_type": "code",
   "execution_count": 1,
   "id": "5ff07854",
   "metadata": {},
   "outputs": [
    {
     "name": "stdout",
     "output_type": "stream",
     "text": [
      "     fun: 1.4883720950006878\n",
      "     jac: array([-0.18598258, -0.74423909, -0.93022171,  0.93029132, -2.04649563])\n",
      " message: 'Optimization terminated successfully'\n",
      "    nfev: 43\n",
      "     nit: 7\n",
      "    njev: 7\n",
      "  status: 0\n",
      " success: True\n",
      "       x: array([-0.06974348,  0.02324783,  1.51164131,  1.46514566, -0.02324783])\n"
     ]
    }
   ],
   "source": [
    "# HW 1 solution 1 Initial guess (1,1,1,1,1)\n",
    "\n",
    "from scipy.optimize import minimize\n",
    "\n",
    "fun = lambda x: (x[0]-x[1])**2 + (x[1] + x[2] - 2)**2 + (x[3] - 1)**2 + (x[4] - 1)**2\n",
    "\n",
    "cons = ({'type': 'eq', 'fun': lambda x:  x[0] + 3 * x[1]},\n",
    "        {'type': 'eq', 'fun': lambda x: -x[2] + x[3] - 2 * x[4]},\n",
    "        {'type': 'eq', 'fun': lambda x: -x[1] - x[4]})\n",
    "\n",
    "bnds = ((-10, 10), (-10, 10), (-10, 10), (-10, 10), (-10, 10))\n",
    "res = minimize(fun, (1,1,1,1,1), method='SLSQP', bounds=bnds, constraints=cons)\n",
    "\n",
    "print(res)\n"
   ]
  },
  {
   "cell_type": "code",
   "execution_count": 2,
   "id": "4b999948",
   "metadata": {
    "scrolled": true
   },
   "outputs": [
    {
     "name": "stdout",
     "output_type": "stream",
     "text": [
      "     fun: 1.4883720930232602\n",
      "     jac: array([-0.18604642, -0.74418621, -0.93023266,  0.93023252, -2.04651159])\n",
      " message: 'Optimization terminated successfully'\n",
      "    nfev: 26\n",
      "     nit: 4\n",
      "    njev: 4\n",
      "  status: 0\n",
      " success: True\n",
      "       x: array([-0.06976741,  0.0232558 ,  1.51162786,  1.46511625, -0.0232558 ])\n"
     ]
    }
   ],
   "source": [
    "# HW 1 solution 1 Initial guess (5,3,1,2,4)\n",
    "\n",
    "from scipy.optimize import minimize\n",
    "\n",
    "fun = lambda x: (x[0]-x[1])**2 + (x[1] + x[2] - 2)**2 + (x[3] - 1)**2 + (x[4] - 1)**2\n",
    "\n",
    "cons = ({'type': 'eq', 'fun': lambda x:  x[0] + 3 * x[1]},\n",
    "        {'type': 'eq', 'fun': lambda x: -x[2] + x[3] - 2 * x[4]},\n",
    "        {'type': 'eq', 'fun': lambda x: -x[1] - x[4]})\n",
    "\n",
    "bnds = ((-10, 10), (-10, 10), (-10, 10), (-10, 10), (-10, 10))\n",
    "res = minimize(fun, (5,3,1,2,4), method='SLSQP', bounds=bnds, constraints=cons)\n",
    "\n",
    "print(res)"
   ]
  },
  {
   "cell_type": "markdown",
   "id": "46fe9d77",
   "metadata": {},
   "source": [
    "I have run the program for 2 initial guesses and the 2nd guess is closer to zero."
   ]
  }
 ],
 "metadata": {
  "kernelspec": {
   "display_name": "Python 3",
   "language": "python",
   "name": "python3"
  },
  "language_info": {
   "codemirror_mode": {
    "name": "ipython",
    "version": 3
   },
   "file_extension": ".py",
   "mimetype": "text/x-python",
   "name": "python",
   "nbconvert_exporter": "python",
   "pygments_lexer": "ipython3",
   "version": "3.8.8"
  }
 },
 "nbformat": 4,
 "nbformat_minor": 5
}
